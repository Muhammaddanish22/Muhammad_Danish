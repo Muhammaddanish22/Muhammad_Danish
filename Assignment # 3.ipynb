{
 "cells": [
  {
   "cell_type": "code",
   "execution_count": 8,
   "metadata": {},
   "outputs": [
    {
     "name": "stdout",
     "output_type": "stream",
     "text": [
      "Enter your first number: 3\n",
      "Enter your second number: 4\n",
      "3 + 4 =  7\n",
      "3 - 4 =  -1\n",
      "3 * 4 =  12\n",
      "3 / 4 =  0.75\n",
      "The Result of 3 Power 4 = 81\n"
     ]
    }
   ],
   "source": [
    "number_1 = int(input('Enter your first number: '))\n",
    "number_2 = int(input('Enter your second number: '))\n",
    "power = 1\n",
    "\n",
    "print('{} + {} = '.format(number_1, number_2),number_1 + number_2)\n",
    "\n",
    "print('{} - {} = '.format(number_1, number_2),number_1 - number_2)\n",
    "\n",
    "print('{} * {} = '.format(number_1, number_2),number_1 * number_2)\n",
    "\n",
    "print('{} / {} = '.format(number_1, number_2),number_1 / number_2)\n",
    "\n",
    "\n",
    "\n",
    "for i in range(1, number_2 + 1):\n",
    "    power = power * number_1\n",
    "    \n",
    "print(\"The Result of {0} Power {1} = {2}\".format(number_1, number_2, power))\n"
   ]
  },
  {
   "cell_type": "code",
   "execution_count": 13,
   "metadata": {},
   "outputs": [
    {
     "name": "stdout",
     "output_type": "stream",
     "text": [
      "list element: 0\n",
      "list element: 10\n",
      "list element: 20\n",
      "list element: 40\n",
      "list element: 100\n",
      "The  MYlist has 5 elements\n"
     ]
    }
   ],
   "source": [
    "MYLIST = [0, 10, 20, 40, 100]\n",
    "\n",
    "for C in MYLIST:\n",
    "    print ('list element:', C)\n",
    "print ('The  MYlist has', len(MYLIST), 'elements')"
   ]
  },
  {
   "cell_type": "code",
   "execution_count": 14,
   "metadata": {},
   "outputs": [
    {
     "name": "stdout",
     "output_type": "stream",
     "text": [
      "{0: 10, 1: 20}\n",
      "{0: 10, 1: 20, 2: 30}\n"
     ]
    }
   ],
   "source": [
    "DIC = {0:10, 1:20}\n",
    "print(DIC)\n",
    "DIC.update({2:30})\n",
    "print(DIC)"
   ]
  },
  {
   "cell_type": "code",
   "execution_count": 16,
   "metadata": {},
   "outputs": [
    {
     "name": "stdout",
     "output_type": "stream",
     "text": [
      "3093\n"
     ]
    }
   ],
   "source": [
    "My_dict = {'NUM':1000,'NUM2':-454,'NUM3':2547}\n",
    "print(sum(My_dict.values()))"
   ]
  },
  {
   "cell_type": "code",
   "execution_count": 24,
   "metadata": {},
   "outputs": [
    {
     "name": "stdout",
     "output_type": "stream",
     "text": [
      "[3, 9, 12]\n"
     ]
    }
   ],
   "source": [
    "lst = [ 3, 6, 9, 12, 3, 30, 15, 9, 45, 36, 12, 12]\n",
    "dupItems = []\n",
    "uniqItems = {}\n",
    "for x in lst:\n",
    "   if x not in uniqItems:\n",
    "      uniqItems[x] = 1\n",
    "   else:\n",
    "      if uniqItems[x] == 1:\n",
    "         dupItems.append(x)\n",
    "      uniqItems[x] += 1\n",
    "print(dupItems)"
   ]
  },
  {
   "cell_type": "code",
   "execution_count": 30,
   "metadata": {},
   "outputs": [
    {
     "name": "stdout",
     "output_type": "stream",
     "text": [
      "Key is present in the dictionary\n"
     ]
    }
   ],
   "source": [
    "d = {1: 10, 2: 20, 3: 30, 4: 40, 5: 50, 6: 60}\n",
    "def is_key_present(x):\n",
    "  if x in d:\n",
    "      print('Key is present in the dictionary')\n",
    "  else:\n",
    "      print('Key is not present in the dictionary')\n",
    "is_key_present(5)\n"
   ]
  },
  {
   "cell_type": "code",
   "execution_count": null,
   "metadata": {},
   "outputs": [],
   "source": []
  }
 ],
 "metadata": {
  "kernelspec": {
   "display_name": "Python 3",
   "language": "python",
   "name": "python3"
  }
 },
 "nbformat": 4,
 "nbformat_minor": 2
}
