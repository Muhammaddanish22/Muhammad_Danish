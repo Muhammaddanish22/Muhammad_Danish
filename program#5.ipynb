{
 "cells": [
  {
   "cell_type": "code",
   "execution_count": 5,
   "metadata": {},
   "outputs": [
    {
     "name": "stdout",
     "output_type": "stream",
     "text": [
      "ENTER YOUR FIRST NAME :DANISH\n",
      "ENTER YOUR LAST NAME :MUHAMMAD\n",
      "MY NAME IS MUHAMMAD DANISH\n"
     ]
    }
   ],
   "source": [
    "firstname = input(\"ENTER YOUR FIRST NAME :\")\n",
    "lastname = input(\"ENTER YOUR LAST NAME :\")\n",
    "print(\"MY NAME IS \"+lastname+ \" \" +firstname)\n"
   ]
  },
  {
   "cell_type": "code",
   "execution_count": null,
   "metadata": {},
   "outputs": [],
   "source": []
  }
 ],
 "metadata": {
  "kernelspec": {
   "display_name": "Python 3",
   "language": "python",
   "name": "python3"
  },
  "language_info": {
   "codemirror_mode": {
    "name": "ipython",
    "version": 3
   },
   "file_extension": ".py",
   "mimetype": "text/x-python",
   "name": "python",
   "nbconvert_exporter": "python",
   "pygments_lexer": "ipython3",
   "version": "3.7.4"
  }
 },
 "nbformat": 4,
 "nbformat_minor": 2
}
