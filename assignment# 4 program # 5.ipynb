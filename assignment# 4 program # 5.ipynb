{
 "cells": [
  {
   "cell_type": "code",
   "execution_count": null,
   "metadata": {},
   "outputs": [
    {
     "name": "stdout",
     "output_type": "stream",
     "text": [
      "Guess my target number that is between 1 and 100 (inclusive).\n",
      "\n",
      "Your guess(1): 4\n",
      "  Too low.\n",
      "Your guess(2): 55\n",
      "  Too high.\n",
      "Your guess(3): 66\n",
      "  Too high.\n",
      "Your guess(4): 33\n",
      "  Too low.\n"
     ]
    }
   ],
   "source": [
    "import random\n",
    " \n",
    "inclusive_range = (1, 30)\n",
    " \n",
    "print(\"Guess my target number that is between %i and %i (inclusive).\\n\"\n",
    "      % inclusive_range)\n",
    "target = random.randint(*inclusive_range)\n",
    "answer, i = None, 0\n",
    "while answer != target:\n",
    "    i += 1\n",
    "    txt = input(\"Your guess(%i): \" % i)\n",
    "    try:\n",
    "        answer = int(txt)\n",
    "    except ValueError:\n",
    "        print(\"  I don't understand your input of '%s' ?\" % txt)\n",
    "        continue\n",
    "    if answer < inclusive_range[0] or answer > inclusive_range[1]:\n",
    "        print(\"  Out of range!\")\n",
    "        continue\n",
    "    if answer == target:\n",
    "        print(\"  Ye-Haw!!\")\n",
    "        break\n",
    "    if answer < target: print(\"  Too low.\")\n",
    "    if answer > target: print(\"  Too high.\")\n",
    " \n",
    "print(\"\\nThanks for playing.\")"
   ]
  },
  {
   "cell_type": "code",
   "execution_count": null,
   "metadata": {},
   "outputs": [],
   "source": []
  }
 ],
 "metadata": {
  "kernelspec": {
   "display_name": "Python 3",
   "language": "python",
   "name": "python3"
  },
  "language_info": {
   "codemirror_mode": {
    "name": "ipython",
    "version": 3
   },
   "file_extension": ".py",
   "mimetype": "text/x-python",
   "name": "python",
   "nbconvert_exporter": "python",
   "pygments_lexer": "ipython3",
   "version": "3.7.4"
  }
 },
 "nbformat": 4,
 "nbformat_minor": 2
}
