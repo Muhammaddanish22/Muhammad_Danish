{
 "cells": [
  {
   "cell_type": "code",
   "execution_count": 1,
   "metadata": {},
   "outputs": [
    {
     "name": "stdout",
     "output_type": "stream",
     "text": [
      "muhammad\n",
      "danish\n",
      "23\n",
      "hyd\n",
      "The dictionary before performing remove is : {'first_name': 'muhammad', 'last_name': 'danish', 'age': 23, 'city': 'hyd'}\n",
      "The dictionary after remove is : {'first_name': 'muhammad', 'last_name': 'danish', 'city': 'hyd'}\n"
     ]
    }
   ],
   "source": [
    "person = {\n",
    "    'first_name': 'muhammad',\n",
    "    'last_name': 'danish',\n",
    "    'age': 23,\n",
    "    'city': 'hyd',\n",
    "    }\n",
    "\n",
    "print(person['first_name'])\n",
    "print(person['last_name'])\n",
    "print(person['age'])\n",
    "print(person['city'])\n",
    "\n",
    "print (\"The dictionary before performing remove is : \" + str(person)) \n",
    "   \n",
    "del person['age'] \n",
    "   \n",
    "print (\"The dictionary after remove is : \" + str(person)) "
   ]
  },
  {
   "cell_type": "code",
   "execution_count": null,
   "metadata": {},
   "outputs": [],
   "source": []
  }
 ],
 "metadata": {
  "kernelspec": {
   "display_name": "Python 3",
   "language": "python",
   "name": "python3"
  },
  "language_info": {
   "codemirror_mode": {
    "name": "ipython",
    "version": 3
   },
   "file_extension": ".py",
   "mimetype": "text/x-python",
   "name": "python",
   "nbconvert_exporter": "python",
   "pygments_lexer": "ipython3",
   "version": "3.7.4"
  }
 },
 "nbformat": 4,
 "nbformat_minor": 2
}
