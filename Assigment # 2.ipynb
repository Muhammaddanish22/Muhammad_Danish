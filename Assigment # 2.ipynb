{
 "cells": [
  {
   "cell_type": "code",
   "execution_count": 7,
   "metadata": {},
   "outputs": [
    {
     "name": "stdout",
     "output_type": "stream",
     "text": [
      "Enter marks of the first subject: 67\n",
      "Enter marks of the second subject: 88\n",
      "Enter marks of the third subject: 99\n",
      "Enter marks of the fourth subject: 77\n",
      "Enter marks of the fifth subject: 88\n",
      "Grade is A+\n"
     ]
    }
   ],
   "source": [
    "ENGLISH=int(input(\"Enter marks of the first subject: \"))\n",
    "URDU=int(input(\"Enter marks of the second subject: \"))\n",
    "MATHS=int(input(\"Enter marks of the third subject: \"))\n",
    "SINDHI=int(input(\"Enter marks of the fourth subject: \"))\n",
    "CHEMISTRY=int(input(\"Enter marks of the fifth subject: \"))\n",
    "TOTAL =(ENGLISH+URDU+MATHS+SINDHI+CHEMISTRY)/5\n",
    "\n",
    "if ( TOTAL >=80):\n",
    "    print(\"Grade is A+\")\n",
    "    \n",
    "elif ( TOTAL >= 70 and TOTAL < 80):\n",
    "    print(\"Grade is A\")\n",
    "    \n",
    "elif ( TOTAL >= 60 and TOTAL < 70):\n",
    "    print(\"Grade is B\")\n",
    "    \n",
    "elif (TOTAL >= 50 and TOTAL < 60):\n",
    "    print(\"Grade is C\")\n",
    "    \n",
    "elif (TOTAL >= 40 and TOTAL < 50):\n",
    "    print(\"Grade is D\")\n",
    "else:\n",
    "    print(\"Grade: FAIL\")"
   ]
  },
  {
   "cell_type": "code",
   "execution_count": 8,
   "metadata": {},
   "outputs": [
    {
     "name": "stdout",
     "output_type": "stream",
     "text": [
      "Enter a number: 45\n",
      "45 is Odd\n"
     ]
    }
   ],
   "source": [
    "NUMBER = int(input(\"Enter a number: \"))\n",
    "if (NUMBER % 2) == 0:\n",
    "   print(\"{0} is Even\".format(NUMBER))\n",
    "else:\n",
    "   print(\"{0} is Odd\".format(NUMBER))"
   ]
  },
  {
   "cell_type": "code",
   "execution_count": 10,
   "metadata": {},
   "outputs": [
    {
     "name": "stdout",
     "output_type": "stream",
     "text": [
      "The length of list is:  3\n"
     ]
    }
   ],
   "source": [
    "n = len([10, 20, 30]) \n",
    "print(\"The length of list is: \", n)"
   ]
  },
  {
   "cell_type": "code",
   "execution_count": 12,
   "metadata": {},
   "outputs": [
    {
     "name": "stdout",
     "output_type": "stream",
     "text": [
      "Sum of all elements in given list:  74\n"
     ]
    }
   ],
   "source": [
    " \n",
    "MYLIST = [11, 5, 17, 18, 23]  \n",
    "TOTAL = 0  \n",
    " \n",
    "for a in range(0, len(MYLIST)): \n",
    "    TOTAL = TOTAL + MYLIST[a] \n",
    "    \n",
    "print(\"Sum of all elements in given list: \", TOTAL) "
   ]
  },
  {
   "cell_type": "code",
   "execution_count": 18,
   "metadata": {},
   "outputs": [
    {
     "name": "stdout",
     "output_type": "stream",
     "text": [
      "Largest element is: 99\n"
     ]
    }
   ],
   "source": [
    "my_list = [10, 20, 4, 45, 99] \n",
    "  \n",
    "print(\"Largest element is:\", max(my_list))  "
   ]
  },
  {
   "cell_type": "code",
   "execution_count": 29,
   "metadata": {},
   "outputs": [
    {
     "name": "stdout",
     "output_type": "stream",
     "text": [
      "[1, 1, 2, 3]\n"
     ]
    }
   ],
   "source": [
    "MY_LIST = [1, 1, 2, 3, 5, 8, 13, 21, 34, 55, 89]\n",
    "\n",
    "new_list = []\n",
    "\n",
    "for A in MY_LIST:\n",
    "  \n",
    "    if A < 5:\n",
    "    \n",
    "        new_list.append(A)\n",
    "\n",
    "print(new_list)"
   ]
  },
  {
   "cell_type": "code",
   "execution_count": null,
   "metadata": {},
   "outputs": [],
   "source": []
  }
 ],
 "metadata": {
  "kernelspec": {
   "display_name": "Python 3",
   "language": "python",
   "name": "python3"
  },
  "language_info": {
   "codemirror_mode": {
    "name": "ipython",
    "version": 3
   },
   "file_extension": ".py",
   "mimetype": "text/x-python",
   "name": "python",
   "nbconvert_exporter": "python",
   "pygments_lexer": "ipython3",
   "version": "3.7.4"
  }
 },
 "nbformat": 4,
 "nbformat_minor": 2
}
