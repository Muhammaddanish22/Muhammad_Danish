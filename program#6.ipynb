{
 "cells": [
  {
   "cell_type": "code",
   "execution_count": 21,
   "metadata": {},
   "outputs": [
    {
     "name": "stdout",
     "output_type": "stream",
     "text": [
      "ENTER FIRST NUMBER: 33\n",
      "ENTER SECOND NUMBER : 44\n",
      "THE SUM OF 33 AND 44 IS : 77.0\n"
     ]
    }
   ],
   "source": [
    "    A = input(\"ENTER FIRST NUMBER: \")\n",
    "    B = input(\"ENTER SECOND NUMBER : \")\n",
    "    ADD = float(A) + float(B)\n",
    "    print (\"THE SUM OF {0} AND {1} IS : {2}\".format(A,B,ADD))"
   ]
  },
  {
   "cell_type": "code",
   "execution_count": null,
   "metadata": {},
   "outputs": [],
   "source": []
  }
 ],
 "metadata": {
  "kernelspec": {
   "display_name": "Python 3",
   "language": "python",
   "name": "python3"
  },
  "language_info": {
   "codemirror_mode": {
    "name": "ipython",
    "version": 3
   },
   "file_extension": ".py",
   "mimetype": "text/x-python",
   "name": "python",
   "nbconvert_exporter": "python",
   "pygments_lexer": "ipython3",
   "version": "3.7.4"
  }
 },
 "nbformat": 4,
 "nbformat_minor": 2
}
